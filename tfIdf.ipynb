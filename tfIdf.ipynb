{
 "cells": [
  {
   "cell_type": "code",
   "execution_count": 1,
   "metadata": {},
   "outputs": [],
   "source": [
    "import pandas as pd\n",
    "import numpy as np\n",
    "from sklearn.ensemble import RandomForestRegressor\n",
    "from sklearn.model_selection import cross_val_score\n",
    "from sklearn import pipeline,preprocessing,feature_extraction,metrics\n",
    "\n"
   ]
  },
  {
   "cell_type": "code",
   "execution_count": 2,
   "metadata": {},
   "outputs": [],
   "source": [
    "train_set = pd.read_csv('train.csv')\n",
    "test_set = pd.read_csv('test.csv')"
   ]
  },
  {
   "cell_type": "code",
   "execution_count": 28,
   "metadata": {},
   "outputs": [],
   "source": [
    "def lump_levels2(x, threshold_percentage, new_value):\n",
    "    threshold = threshold_percentage * x.count()\n",
    "    \n",
    "    x = x.copy()\n",
    "    value_counts = x.value_counts()\n",
    "    label_with_freq = x.map(lambda val: value_counts[val])\n",
    "    x[label_with_freq < threshold] = new_value\n",
    "    return x"
   ]
  },
  {
   "cell_type": "code",
   "execution_count": null,
   "metadata": {},
   "outputs": [],
   "source": [
    "train_set.describe()"
   ]
  },
  {
   "cell_type": "markdown",
   "metadata": {},
   "source": []
  },
  {
   "cell_type": "code",
   "execution_count": null,
   "metadata": {},
   "outputs": [],
   "source": [
    "train_set[:5]"
   ]
  },
  {
   "cell_type": "code",
   "execution_count": null,
   "metadata": {},
   "outputs": [],
   "source": [
    "train_set.describe()"
   ]
  },
  {
   "cell_type": "code",
   "execution_count": 30,
   "metadata": {},
   "outputs": [],
   "source": [
    "def preprocess(my_set, mappings = {}):\n",
    "    user_ids = lump_levels2(my_set['user_id'].fillna(\"\"), 0.000025,'other').astype('category')\n",
    "    if ('user_id' not in mappings):\n",
    "        user_ids_mapping = dict(enumerate(user_ids.cat.categories))\n",
    "        user_ids_mapping_reverse = {v:k for k,v in user_ids_mapping.items()}\n",
    "        mappings['user_id'] = user_ids_mapping_reverse\n",
    "    \n",
    "    regions = my_set['region'].astype('category')\n",
    "    if ('region' not in mappings):\n",
    "        regions_mapping = dict(enumerate(regions.cat.categories))\n",
    "        regions_mapping_reverse = {v:k for k,v in regions_mapping.items()}\n",
    "        mappings['region'] = regions_mapping_reverse\n",
    "\n",
    "    cities = lump_levels2(my_set['city'].fillna(\"\"), 0.0003,'other').astype('category')\n",
    "    if ('city' not in mappings):\n",
    "        cities_mapping = dict(enumerate(cities.cat.categories))\n",
    "        cities_mapping_reverse = {v:k for k,v in cities_mapping.items()}\n",
    "        mappings['city'] = cities_mapping_reverse\n",
    "\n",
    "    parent_category_names = my_set['parent_category_name'].astype('category')\n",
    "    if ('parent_category_name' not in mappings):\n",
    "        parent_category_names_mapping = dict(enumerate(parent_category_names.cat.categories))\n",
    "        parent_category_names_mapping_reverse = {v:k for k,v in parent_category_names_mapping.items()}\n",
    "        mappings['parent_category_name'] = parent_category_names_mapping_reverse\n",
    "\n",
    "    category_names = my_set['category_name'].astype('category')\n",
    "    category_names_mapping = dict(enumerate(category_names.cat.categories))\n",
    "    category_names_mapping_reverse = {v:k for k,v in category_names_mapping.items()}\n",
    "\n",
    "    param_1 = my_set['param_1'].fillna(\"\").astype('category')\n",
    "    param_1_mapping = dict(enumerate(param_1.cat.categories))\n",
    "    param_1_mapping_reverse = {v:k for k,v in param_1_mapping.items()}\n",
    "\n",
    "    param_2 = my_set['param_2'].fillna(\"\").astype('category')\n",
    "    param_2_mapping = dict(enumerate(param_2.cat.categories))\n",
    "    param_2_mapping_reverse = {v:k for k,v in param_2_mapping.items()}\n",
    "\n",
    "    param_3 = lump_levels2(my_set['param_3'].fillna(\"\"), 0.00005,'other').astype('category')\n",
    "    param_3_mapping = dict(enumerate(param_3.cat.categories))\n",
    "    param_3_mapping_reverse = {v:k for k,v in param_3_mapping.items()}\n",
    "\n",
    "    text = my_set['title'].fillna(\"\").str.cat(my_set['description'].fillna(\"\"), sep=' ')\n",
    "    text_length = text.map(lambda tt: len(tt))\n",
    "    text_count = len(text.split())\n",
    "\n",
    "    prices = np.log1p(my_set['price'].fillna(0))\n",
    "\n",
    "    month = pd.to_datetime(my_set['activation_date'],format='%Y-%m-%d').map(lambda date: date.month)\n",
    "    day = pd.to_datetime(my_set['activation_date'],format='%Y-%m-%d').map(lambda date: date.day)\n",
    "\n",
    "    user_types = my_set['user_type'].fillna(\"\").astype('category')\n",
    "    user_types_mapping = dict(enumerate(user_types.cat.categories))\n",
    "    user_types_mapping_reverse = {v:k for k,v in user_types_mapping.items()}\n",
    "\n",
    "    df = pd.DataFrame()\n",
    "    df['user_id'] = user_ids.cat.codes\n",
    "    df['region'] = regions.cat.codes\n",
    "    df['city'] = cities.cat.codes\n",
    "    df['parent_category_name'] = parent_category_names.cat.codes\n",
    "    df['category_name'] = category_names.cat.codes\n",
    "    df['param_1'] = param_1.cat.codes\n",
    "    df['param_2'] = param_2.cat.codes\n",
    "    df['param_3'] = param_3.cat.codes\n",
    "    df['text_length'] = text_length\n",
    "    df['text_count'] = text_count\n",
    "    df['text'] = text\n",
    "    df['price'] = prices\n",
    "    df['month'] = month\n",
    "    df['day'] = day\n",
    "    df['item_seq_number'] = train_set['item_seq_number'].fillna(-1)\n",
    "    df['user_type'] = user_types.cat.codes\n",
    "    df['image_top_1'] = train_set['image_top_1'].fillna(-1)\n",
    "    "
   ]
  },
  {
   "cell_type": "code",
   "execution_count": null,
   "metadata": {},
   "outputs": [],
   "source": [
    "user_types_mapping"
   ]
  },
  {
   "cell_type": "code",
   "execution_count": 77,
   "metadata": {},
   "outputs": [
    {
     "data": {
      "text/html": [
       "<div>\n",
       "<style scoped>\n",
       "    .dataframe tbody tr th:only-of-type {\n",
       "        vertical-align: middle;\n",
       "    }\n",
       "\n",
       "    .dataframe tbody tr th {\n",
       "        vertical-align: top;\n",
       "    }\n",
       "\n",
       "    .dataframe thead th {\n",
       "        text-align: right;\n",
       "    }\n",
       "</style>\n",
       "<table border=\"1\" class=\"dataframe\">\n",
       "  <thead>\n",
       "    <tr style=\"text-align: right;\">\n",
       "      <th></th>\n",
       "      <th>user_id</th>\n",
       "      <th>region</th>\n",
       "      <th>city</th>\n",
       "      <th>parent_category_name</th>\n",
       "      <th>category_name</th>\n",
       "      <th>param_1</th>\n",
       "      <th>param_2</th>\n",
       "      <th>param_3</th>\n",
       "      <th>price</th>\n",
       "      <th>item_seq_number</th>\n",
       "      <th>user_type</th>\n",
       "      <th>month</th>\n",
       "      <th>day</th>\n",
       "      <th>image_top_1</th>\n",
       "    </tr>\n",
       "  </thead>\n",
       "  <tbody>\n",
       "    <tr>\n",
       "      <th>0</th>\n",
       "      <td>675853</td>\n",
       "      <td>19</td>\n",
       "      <td>460</td>\n",
       "      <td>4</td>\n",
       "      <td>42</td>\n",
       "      <td>249</td>\n",
       "      <td>0</td>\n",
       "      <td>0</td>\n",
       "      <td>-0.004592</td>\n",
       "      <td>2</td>\n",
       "      <td>1</td>\n",
       "      <td>3</td>\n",
       "      <td>28</td>\n",
       "      <td>1008.0</td>\n",
       "    </tr>\n",
       "    <tr>\n",
       "      <th>1</th>\n",
       "      <td>173962</td>\n",
       "      <td>17</td>\n",
       "      <td>1300</td>\n",
       "      <td>2</td>\n",
       "      <td>22</td>\n",
       "      <td>122</td>\n",
       "      <td>0</td>\n",
       "      <td>0</td>\n",
       "      <td>-0.004552</td>\n",
       "      <td>19</td>\n",
       "      <td>1</td>\n",
       "      <td>3</td>\n",
       "      <td>26</td>\n",
       "      <td>692.0</td>\n",
       "    </tr>\n",
       "    <tr>\n",
       "      <th>2</th>\n",
       "      <td>440069</td>\n",
       "      <td>16</td>\n",
       "      <td>1276</td>\n",
       "      <td>0</td>\n",
       "      <td>2</td>\n",
       "      <td>84</td>\n",
       "      <td>0</td>\n",
       "      <td>0</td>\n",
       "      <td>-0.004537</td>\n",
       "      <td>9</td>\n",
       "      <td>1</td>\n",
       "      <td>3</td>\n",
       "      <td>20</td>\n",
       "      <td>3032.0</td>\n",
       "    </tr>\n",
       "  </tbody>\n",
       "</table>\n",
       "</div>"
      ],
      "text/plain": [
       "   user_id  region  city  parent_category_name  category_name  param_1  \\\n",
       "0   675853      19   460                     4             42      249   \n",
       "1   173962      17  1300                     2             22      122   \n",
       "2   440069      16  1276                     0              2       84   \n",
       "\n",
       "   param_2  param_3     price  item_seq_number  user_type  month  day  \\\n",
       "0        0        0 -0.004592                2          1      3   28   \n",
       "1        0        0 -0.004552               19          1      3   26   \n",
       "2        0        0 -0.004537                9          1      3   20   \n",
       "\n",
       "   image_top_1  \n",
       "0       1008.0  \n",
       "1        692.0  \n",
       "2       3032.0  "
      ]
     },
     "execution_count": 77,
     "metadata": {},
     "output_type": "execute_result"
    }
   ],
   "source": [
    "#region\tcity\tparent_category_name\tcategory_name\tparam_1\tparam_2\tparam_3\ttitle\tdescription\tprice\titem_seq_number\tactivation_date\tuser_type\timage\timage_top_1\n",
    "\n",
    "\n",
    "Y = train_set['deal_probability']\n",
    "X = df\n",
    "X[:3]"
   ]
  },
  {
   "cell_type": "code",
   "execution_count": 79,
   "metadata": {},
   "outputs": [
    {
     "data": {
      "text/plain": [
       "RandomForestRegressor(bootstrap=True, criterion='mse', max_depth=None,\n",
       "           max_features='auto', max_leaf_nodes=None,\n",
       "           min_impurity_decrease=0.0, min_impurity_split=None,\n",
       "           min_samples_leaf=1, min_samples_split=2,\n",
       "           min_weight_fraction_leaf=0.0, n_estimators=20, n_jobs=20,\n",
       "           oob_score=False, random_state=None, verbose=0, warm_start=False)"
      ]
     },
     "execution_count": 79,
     "metadata": {},
     "output_type": "execute_result"
    }
   ],
   "source": [
    "regressor_train = RandomForestRegressor(n_jobs=20,n_estimators=20)\n",
    "regressor_train.fit(X, Y)"
   ]
  },
  {
   "cell_type": "code",
   "execution_count": 58,
   "metadata": {},
   "outputs": [],
   "source": [
    "regressor = RandomForestRegressor(n_jobs=20,n_estimators=10)\n",
    "scores = cross_val_score(regressor, X, Y, cv=3,scoring='neg_mean_squared_error')"
   ]
  },
  {
   "cell_type": "code",
   "execution_count": 59,
   "metadata": {},
   "outputs": [
    {
     "name": "stdout",
     "output_type": "stream",
     "text": [
      "-0.05877895347531897\n",
      "8.353597679938909e-05\n"
     ]
    }
   ],
   "source": [
    "print(scores.mean())\n",
    "print(scores.std())"
   ]
  },
  {
   "cell_type": "code",
   "execution_count": null,
   "metadata": {},
   "outputs": [],
   "source": []
  },
  {
   "cell_type": "code",
   "execution_count": 80,
   "metadata": {},
   "outputs": [
    {
     "data": {
      "text/html": [
       "<div>\n",
       "<style scoped>\n",
       "    .dataframe tbody tr th:only-of-type {\n",
       "        vertical-align: middle;\n",
       "    }\n",
       "\n",
       "    .dataframe tbody tr th {\n",
       "        vertical-align: top;\n",
       "    }\n",
       "\n",
       "    .dataframe thead th {\n",
       "        text-align: right;\n",
       "    }\n",
       "</style>\n",
       "<table border=\"1\" class=\"dataframe\">\n",
       "  <thead>\n",
       "    <tr style=\"text-align: right;\">\n",
       "      <th></th>\n",
       "      <th>user_id</th>\n",
       "      <th>region</th>\n",
       "      <th>city</th>\n",
       "      <th>parent_category_name</th>\n",
       "      <th>category_name</th>\n",
       "      <th>param_1</th>\n",
       "      <th>param_2</th>\n",
       "      <th>param_3</th>\n",
       "      <th>price</th>\n",
       "      <th>item_seq_number</th>\n",
       "      <th>user_type</th>\n",
       "      <th>month</th>\n",
       "      <th>day</th>\n",
       "      <th>image_top_1</th>\n",
       "    </tr>\n",
       "  </thead>\n",
       "  <tbody>\n",
       "    <tr>\n",
       "      <th>0</th>\n",
       "      <td>262938</td>\n",
       "      <td>4</td>\n",
       "      <td>306</td>\n",
       "      <td>4</td>\n",
       "      <td>10</td>\n",
       "      <td>108</td>\n",
       "      <td>177</td>\n",
       "      <td>63</td>\n",
       "      <td>-0.050567</td>\n",
       "      <td>66</td>\n",
       "      <td>1</td>\n",
       "      <td>4</td>\n",
       "      <td>18</td>\n",
       "      <td>2020.0</td>\n",
       "    </tr>\n",
       "    <tr>\n",
       "      <th>1</th>\n",
       "      <td>55145</td>\n",
       "      <td>19</td>\n",
       "      <td>933</td>\n",
       "      <td>8</td>\n",
       "      <td>5</td>\n",
       "      <td>117</td>\n",
       "      <td>0</td>\n",
       "      <td>0</td>\n",
       "      <td>-0.049990</td>\n",
       "      <td>4</td>\n",
       "      <td>1</td>\n",
       "      <td>4</td>\n",
       "      <td>16</td>\n",
       "      <td>0.0</td>\n",
       "    </tr>\n",
       "    <tr>\n",
       "      <th>2</th>\n",
       "      <td>13649</td>\n",
       "      <td>12</td>\n",
       "      <td>147</td>\n",
       "      <td>0</td>\n",
       "      <td>2</td>\n",
       "      <td>310</td>\n",
       "      <td>0</td>\n",
       "      <td>0</td>\n",
       "      <td>-0.047682</td>\n",
       "      <td>15</td>\n",
       "      <td>1</td>\n",
       "      <td>4</td>\n",
       "      <td>17</td>\n",
       "      <td>2960.0</td>\n",
       "    </tr>\n",
       "  </tbody>\n",
       "</table>\n",
       "</div>"
      ],
      "text/plain": [
       "   user_id  region  city  parent_category_name  category_name  param_1  \\\n",
       "0   262938       4   306                     4             10      108   \n",
       "1    55145      19   933                     8              5      117   \n",
       "2    13649      12   147                     0              2      310   \n",
       "\n",
       "   param_2  param_3     price  item_seq_number  user_type  month  day  \\\n",
       "0      177       63 -0.050567               66          1      4   18   \n",
       "1        0        0 -0.049990                4          1      4   16   \n",
       "2        0        0 -0.047682               15          1      4   17   \n",
       "\n",
       "   image_top_1  \n",
       "0       2020.0  \n",
       "1          0.0  \n",
       "2       2960.0  "
      ]
     },
     "execution_count": 80,
     "metadata": {},
     "output_type": "execute_result"
    }
   ],
   "source": [
    "user_id_t = test_set['user_id'].astype('category').cat.rename_categories(user_ids_mapping_reverse)\n",
    "regions_t = test_set['region'].astype('category').cat.rename_categories(regions_mapping_reverse)\n",
    "cities_t = test_set['city'].astype('category').cat.rename_categories(cities_mapping_reverse)\n",
    "parent_category_name_t = test_set['parent_category_name'].astype('category').cat.rename_categories(parent_category_names_mapping_reverse)\n",
    "category_name_t = test_set['category_name'].astype('category').cat.rename_categories(category_names_mapping_reverse)\n",
    "param_1_t = test_set['param_1'].fillna(\"\").astype('category').cat.rename_categories(param_1_mapping_reverse)\n",
    "param_2_t = test_set['param_2'].fillna(\"\").astype('category').cat.rename_categories(param_2_mapping_reverse)\n",
    "param_3_t = test_set['param_3'].fillna(\"\").astype('category').cat.rename_categories(param_3_mapping_reverse)\n",
    "prices_t = preprocessing.scale(test_set['price'].fillna(0))\n",
    "user_types_t = test_set['user_type'].fillna(\"\").astype('category')\n",
    "\n",
    "month_t = pd.to_datetime(test_set['activation_date'],format='%Y-%m-%d').map(lambda date: date.month)\n",
    "day_t = pd.to_datetime(test_set['activation_date'],format='%Y-%m-%d').map(lambda date: date.day)\n",
    "\n",
    "df_t = pd.DataFrame()\n",
    "df_t['user_id'] = user_id_t.cat.codes\n",
    "df_t['region'] = regions_t.cat.codes\n",
    "df_t['city'] = cities_t.cat.codes\n",
    "df_t['parent_category_name'] = parent_category_name_t.cat.codes\n",
    "df_t['category_name'] = category_name_t.cat.codes\n",
    "df_t['param_1'] = param_1_t.cat.codes\n",
    "df_t['param_2'] = param_2_t.cat.codes\n",
    "df_t['param_3'] = param_3_t.cat.codes\n",
    "df_t['price'] = prices_t\n",
    "df_t['item_seq_number'] = test_set['item_seq_number']\n",
    "df_t['user_type'] = user_types_t.cat.codes\n",
    "df_t['month'] = month_t\n",
    "df_t['day'] = day_t\n",
    "df_t['image_top_1'] = test_set['image_top_1'].fillna(0)\n",
    "\n",
    "X_t = df_t\n",
    "X_t[:3]"
   ]
  },
  {
   "cell_type": "code",
   "execution_count": 81,
   "metadata": {},
   "outputs": [],
   "source": [
    "Y_t = regressor_train.predict(X_t)"
   ]
  },
  {
   "cell_type": "code",
   "execution_count": 88,
   "metadata": {},
   "outputs": [],
   "source": [
    "df_out = pd.DataFrame()\n",
    "df_out[\"item_id\"] = test_set[\"item_id\"]\n",
    "df_out[\"deal_probability\"] = Y_t\n",
    "df_out.to_csv('output2.csv', index=False, index_label=False)"
   ]
  },
  {
   "cell_type": "code",
   "execution_count": 90,
   "metadata": {},
   "outputs": [
    {
     "data": {
      "text/html": [
       "<div>\n",
       "<style scoped>\n",
       "    .dataframe tbody tr th:only-of-type {\n",
       "        vertical-align: middle;\n",
       "    }\n",
       "\n",
       "    .dataframe tbody tr th {\n",
       "        vertical-align: top;\n",
       "    }\n",
       "\n",
       "    .dataframe thead th {\n",
       "        text-align: right;\n",
       "    }\n",
       "</style>\n",
       "<table border=\"1\" class=\"dataframe\">\n",
       "  <thead>\n",
       "    <tr style=\"text-align: right;\">\n",
       "      <th></th>\n",
       "      <th>deal_probability</th>\n",
       "    </tr>\n",
       "  </thead>\n",
       "  <tbody>\n",
       "    <tr>\n",
       "      <th>count</th>\n",
       "      <td>508438.000000</td>\n",
       "    </tr>\n",
       "    <tr>\n",
       "      <th>mean</th>\n",
       "      <td>0.199514</td>\n",
       "    </tr>\n",
       "    <tr>\n",
       "      <th>std</th>\n",
       "      <td>0.117772</td>\n",
       "    </tr>\n",
       "    <tr>\n",
       "      <th>min</th>\n",
       "      <td>0.000000</td>\n",
       "    </tr>\n",
       "    <tr>\n",
       "      <th>25%</th>\n",
       "      <td>0.112679</td>\n",
       "    </tr>\n",
       "    <tr>\n",
       "      <th>50%</th>\n",
       "      <td>0.179613</td>\n",
       "    </tr>\n",
       "    <tr>\n",
       "      <th>75%</th>\n",
       "      <td>0.265493</td>\n",
       "    </tr>\n",
       "    <tr>\n",
       "      <th>max</th>\n",
       "      <td>0.975000</td>\n",
       "    </tr>\n",
       "  </tbody>\n",
       "</table>\n",
       "</div>"
      ],
      "text/plain": [
       "       deal_probability\n",
       "count     508438.000000\n",
       "mean           0.199514\n",
       "std            0.117772\n",
       "min            0.000000\n",
       "25%            0.112679\n",
       "50%            0.179613\n",
       "75%            0.265493\n",
       "max            0.975000"
      ]
     },
     "execution_count": 90,
     "metadata": {},
     "output_type": "execute_result"
    }
   ],
   "source": [
    "df_out.describe()"
   ]
  },
  {
   "cell_type": "markdown",
   "metadata": {},
   "source": [
    "TRY tf idf"
   ]
  },
  {
   "cell_type": "raw",
   "metadata": {},
   "source": []
  },
  {
   "cell_type": "code",
   "execution_count": 66,
   "metadata": {},
   "outputs": [
    {
     "data": {
      "text/plain": [
       "0          317\n",
       "1          983\n",
       "2          150\n",
       "3         1305\n",
       "4          242\n",
       "5         1276\n",
       "6         1107\n",
       "7          592\n",
       "8         1048\n",
       "9         1199\n",
       "10        1153\n",
       "11         723\n",
       "12        1525\n",
       "13        1300\n",
       "14         231\n",
       "15        1244\n",
       "16        1276\n",
       "17         723\n",
       "18        1048\n",
       "19        1398\n",
       "20         975\n",
       "21         961\n",
       "22        1083\n",
       "23        1526\n",
       "24        1063\n",
       "25         975\n",
       "26         975\n",
       "27        1101\n",
       "28        1153\n",
       "29         723\n",
       "          ... \n",
       "508408     965\n",
       "508409     940\n",
       "508410     317\n",
       "508411     575\n",
       "508412    1048\n",
       "508413     592\n",
       "508414    1098\n",
       "508415    1300\n",
       "508416     962\n",
       "508417    1153\n",
       "508418     975\n",
       "508419     743\n",
       "508420     723\n",
       "508421    1674\n",
       "508422     857\n",
       "508423    1589\n",
       "508424    1589\n",
       "508425    1632\n",
       "508426      66\n",
       "508427    1153\n",
       "508428     317\n",
       "508429    1048\n",
       "508430     652\n",
       "508431     317\n",
       "508432    1589\n",
       "508433     645\n",
       "508434    1526\n",
       "508435     123\n",
       "508436     949\n",
       "508437     329\n",
       "Name: city, Length: 508438, dtype: category\n",
       "Categories (1644, object): [0, 1, 2, 3, ..., 1729, 1730, 1731, 1732]"
      ]
     },
     "execution_count": 66,
     "metadata": {},
     "output_type": "execute_result"
    }
   ],
   "source": [
    "cities_t"
   ]
  },
  {
   "cell_type": "code",
   "execution_count": 98,
   "metadata": {},
   "outputs": [],
   "source": [
    "tfidf = feature_extraction.text.TfidfVectorizer()\n",
    "texttfidf = tfidf.fit_transform(text.fillna(\"\"))"
   ]
  },
  {
   "cell_type": "code",
   "execution_count": 99,
   "metadata": {},
   "outputs": [
    {
     "data": {
      "text/plain": [
       "<1503424x667794 sparse matrix of type '<class 'numpy.float64'>'\n",
       "\twith 32874835 stored elements in Compressed Sparse Row format>"
      ]
     },
     "execution_count": 99,
     "metadata": {},
     "output_type": "execute_result"
    }
   ],
   "source": [
    "texttfidf"
   ]
  },
  {
   "cell_type": "code",
   "execution_count": 100,
   "metadata": {},
   "outputs": [
    {
     "data": {
      "text/plain": [
       "(1503424, 667794)"
      ]
     },
     "execution_count": 100,
     "metadata": {},
     "output_type": "execute_result"
    }
   ],
   "source": [
    "texttfidf.shape"
   ]
  },
  {
   "cell_type": "code",
   "execution_count": 101,
   "metadata": {},
   "outputs": [
    {
     "data": {
      "text/plain": [
       "count          1387148\n",
       "unique         1375410\n",
       "top       Платье Новое\n",
       "freq                78\n",
       "Name: title, dtype: object"
      ]
     },
     "execution_count": 101,
     "metadata": {},
     "output_type": "execute_result"
    }
   ],
   "source": [
    "text.describe()"
   ]
  },
  {
   "cell_type": "code",
   "execution_count": 102,
   "metadata": {},
   "outputs": [
    {
     "data": {
      "text/plain": [
       "<1x667794 sparse matrix of type '<class 'numpy.float64'>'\n",
       "\twith 10 stored elements in Compressed Sparse Row format>"
      ]
     },
     "execution_count": 102,
     "metadata": {},
     "output_type": "execute_result"
    }
   ],
   "source": [
    "texttfidf[0]"
   ]
  },
  {
   "cell_type": "code",
   "execution_count": 103,
   "metadata": {},
   "outputs": [
    {
     "data": {
      "text/plain": [
       "TfidfVectorizer(analyzer='word', binary=False, decode_error='strict',\n",
       "        dtype=<class 'numpy.int64'>, encoding='utf-8', input='content',\n",
       "        lowercase=True, max_df=1.0, max_features=None, min_df=1,\n",
       "        ngram_range=(1, 1), norm='l2', preprocessor=None, smooth_idf=True,\n",
       "        stop_words=None, strip_accents=None, sublinear_tf=False,\n",
       "        token_pattern='(?u)\\\\b\\\\w\\\\w+\\\\b', tokenizer=None, use_idf=True,\n",
       "        vocabulary=None)"
      ]
     },
     "execution_count": 103,
     "metadata": {},
     "output_type": "execute_result"
    }
   ],
   "source": [
    "tfidf"
   ]
  },
  {
   "cell_type": "code",
   "execution_count": null,
   "metadata": {},
   "outputs": [],
   "source": []
  }
 ],
 "metadata": {
  "kernelspec": {
   "display_name": "Python 3",
   "language": "python",
   "name": "python3"
  },
  "language_info": {
   "codemirror_mode": {
    "name": "ipython",
    "version": 3
   },
   "file_extension": ".py",
   "mimetype": "text/x-python",
   "name": "python",
   "nbconvert_exporter": "python",
   "pygments_lexer": "ipython3",
   "version": "3.6.4"
  }
 },
 "nbformat": 4,
 "nbformat_minor": 2
}
