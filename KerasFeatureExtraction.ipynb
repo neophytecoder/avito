{
 "cells": [
  {
   "cell_type": "code",
   "execution_count": 1,
   "metadata": {},
   "outputs": [
    {
     "name": "stderr",
     "output_type": "stream",
     "text": [
      "/home/ubuntu/anaconda3/lib/python3.6/site-packages/h5py/__init__.py:36: FutureWarning: Conversion of the second argument of issubdtype from `float` to `np.floating` is deprecated. In future, it will be treated as `np.float64 == np.dtype(float).type`.\n",
      "  from ._conv import register_converters as _register_converters\n",
      "Using TensorFlow backend.\n"
     ]
    }
   ],
   "source": [
    "from keras.applications.xception import Xception\n",
    "from keras.preprocessing import image\n",
    "import numpy as np\n",
    "import pandas as pd\n",
    "from functools import reduce"
   ]
  },
  {
   "cell_type": "code",
   "execution_count": 2,
   "metadata": {},
   "outputs": [],
   "source": [
    "images_path = '/home/ubuntu/image/avito/img/data/competition_files/train_jpg/'\n",
    "train_df = pd.read_csv(\"~/Kaggle/avito/train.csv\", nrows=5)\n",
    "#test_df = pd.read_csv(\"~/Kaggle/avito/test.csv\")"
   ]
  },
  {
   "cell_type": "code",
   "execution_count": 3,
   "metadata": {},
   "outputs": [],
   "source": [
    "model = Xception(include_top=False,weights='imagenet',pooling='max')\n",
    "def create_feature(myimage):\n",
    "    jpg = myimage + '.jpg'\n",
    "    img_path = images_path + jpg\n",
    "    print(img_path)\n",
    "    img = image.load_img(img_path, target_size=(299, 299))\n",
    "    x = image.img_to_array(img)\n",
    "    x = np.expand_dims(x, axis=0)\n",
    "    return model.predict(x)\n",
    "\n",
    "def create_dummy_feature():\n",
    "    return np.zeros((1,2048))\n"
   ]
  },
  {
   "cell_type": "code",
   "execution_count": 8,
   "metadata": {},
   "outputs": [
    {
     "name": "stdout",
     "output_type": "stream",
     "text": [
      "/home/ubuntu/image/avito/img/data/competition_files/train_jpg/d10c7e016e03247a3bf2d13348fe959fe6f436c1caf64c7679f17c333c959b19.jpg\n",
      "/home/ubuntu/image/avito/img/data/competition_files/train_jpg/79c9392cc51a9c81c6eb91eceb8e552171db39d71427001e1e0859c0fb843a31.jpg\n",
      "/home/ubuntu/image/avito/img/data/competition_files/train_jpg/b7f250ee3f39e1fedd77c141f273703f4a9be59db4b48a8713f112c67e29bb42.jpg\n",
      "/home/ubuntu/image/avito/img/data/competition_files/train_jpg/e6ef97e0725637ea84e3d203e82dadb43ed3cc0a1c841302bf49820803501b4b.jpg\n",
      "/home/ubuntu/image/avito/img/data/competition_files/train_jpg/54a687a3a0fc1d68aed99bdaaf551c5c70b761b16fd0a2c089d8376e883ed33b.jpg\n"
     ]
    }
   ],
   "source": [
    "def create_stacked_features(mydf):\n",
    "    convertFeature = lambda myimage: create_dummy_feature() if pd.isnull(myimage) else create_feature(myimage)\n",
    "    res = mydf.map(convertFeature)\n",
    "    #print(res)\n",
    "    list_res = list(res)\n",
    "    stacked_res = reduce(lambda x,y: np.vstack((x,y)), list_res)\n",
    "    #print(stacked_res)\n",
    "    return stacked_res\n",
    "\n",
    "stacked_features = create_stacked_features(train_df[\"image\"])\n",
    "np.save('/home/ubuntu/image/avito/img/data/competition_files/features/train.npy', stacked_features)"
   ]
  },
  {
   "cell_type": "code",
   "execution_count": null,
   "metadata": {},
   "outputs": [],
   "source": []
  }
 ],
 "metadata": {
  "kernelspec": {
   "display_name": "Python 3",
   "language": "python",
   "name": "python3"
  },
  "language_info": {
   "codemirror_mode": {
    "name": "ipython",
    "version": 3
   },
   "file_extension": ".py",
   "mimetype": "text/x-python",
   "name": "python",
   "nbconvert_exporter": "python",
   "pygments_lexer": "ipython3",
   "version": "3.6.4"
  }
 },
 "nbformat": 4,
 "nbformat_minor": 2
}
